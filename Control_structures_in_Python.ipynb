{
  "nbformat": 4,
  "nbformat_minor": 0,
  "metadata": {
    "colab": {
      "provenance": []
    },
    "kernelspec": {
      "name": "python3",
      "display_name": "Python 3"
    },
    "language_info": {
      "name": "python"
    }
  },
  "cells": [
    {
      "cell_type": "markdown",
      "source": [
        "# Control structures in Python"
      ],
      "metadata": {
        "id": "4vZNO_XYB9zG"
      }
    },
    {
      "cell_type": "markdown",
      "source": [
        "Control structures in Python allow you to control the flow of your program based on certain conditions and to execute code repeatedly. The most common control structures include conditional statements (if, elif, else), loops (for, while), and loop control statements (break, continue, pass). Below is an example that demonstrates these control structures in Python."
      ],
      "metadata": {
        "id": "cV5j-a-tCOas"
      }
    },
    {
      "cell_type": "markdown",
      "source": [
        "**1. Conditional Statements (if, elif, else)**"
      ],
      "metadata": {
        "id": "4uHvrDLRCWc9"
      }
    },
    {
      "cell_type": "code",
      "execution_count": 1,
      "metadata": {
        "colab": {
          "base_uri": "https://localhost:8080/"
        },
        "id": "JNqxLgRxB4LA",
        "outputId": "70342a1e-93d8-4294-e0fe-19039d8ca517"
      },
      "outputs": [
        {
          "output_type": "stream",
          "name": "stdout",
          "text": [
            "The number is greater than 10 but less than or equal to 20.\n"
          ]
        }
      ],
      "source": [
        "# Example of if-elif-else statements\n",
        "\n",
        "number = 15\n",
        "\n",
        "if number > 20:\n",
        "    print(\"The number is greater than 20.\")\n",
        "elif number > 10:\n",
        "    print(\"The number is greater than 10 but less than or equal to 20.\")\n",
        "else:\n",
        "    print(\"The number is 10 or less.\")\n"
      ]
    },
    {
      "cell_type": "markdown",
      "source": [
        "**Explanation:**\n",
        "\n",
        "The program checks the value of number and prints a message based on the condition that is met.\n",
        "if checks if the number is greater than 20.\n",
        "elif (else if) checks if the number is greater than 10 but not greater than 20.\n",
        "else executes if none of the previous conditions are true."
      ],
      "metadata": {
        "id": "fVfr9MbiCg10"
      }
    },
    {
      "cell_type": "markdown",
      "source": [
        "**2. for Loop**"
      ],
      "metadata": {
        "id": "cT6qafrpCj8N"
      }
    },
    {
      "cell_type": "code",
      "source": [
        "# Example of a for loop\n",
        "\n",
        "fruits = [\"apple\", \"banana\", \"cherry\"]\n",
        "\n",
        "for fruit in fruits:\n",
        "    print(f\"I like {fruit}.\")\n"
      ],
      "metadata": {
        "colab": {
          "base_uri": "https://localhost:8080/"
        },
        "id": "r-q4lDHDCo0r",
        "outputId": "b9bae6af-906e-42bc-b44e-2adc593c800c"
      },
      "execution_count": 2,
      "outputs": [
        {
          "output_type": "stream",
          "name": "stdout",
          "text": [
            "I like apple.\n",
            "I like banana.\n",
            "I like cherry.\n"
          ]
        }
      ]
    },
    {
      "cell_type": "markdown",
      "source": [
        "**Explanation:**\n",
        "\n",
        "The for loop iterates over each item in the list fruits.\n",
        "It prints a statement for each fruit in the list."
      ],
      "metadata": {
        "id": "o_fouQW0CtcB"
      }
    },
    {
      "cell_type": "markdown",
      "source": [
        "**3. while Loop**"
      ],
      "metadata": {
        "id": "g-M9auc6Cyfn"
      }
    },
    {
      "cell_type": "code",
      "source": [
        "# Example of a while loop\n",
        "\n",
        "count = 0\n",
        "\n",
        "while count < 5:\n",
        "    print(f\"Count is: {count}\")\n",
        "    count += 1  # Increment count by 1\n"
      ],
      "metadata": {
        "colab": {
          "base_uri": "https://localhost:8080/"
        },
        "id": "P0gGpaoXCvUu",
        "outputId": "3d139278-0b11-4cec-9e77-0c7ad01fed0c"
      },
      "execution_count": 3,
      "outputs": [
        {
          "output_type": "stream",
          "name": "stdout",
          "text": [
            "Count is: 0\n",
            "Count is: 1\n",
            "Count is: 2\n",
            "Count is: 3\n",
            "Count is: 4\n"
          ]
        }
      ]
    },
    {
      "cell_type": "markdown",
      "source": [
        "**Explanation:**\n",
        "\n",
        "The while loop continues to run as long as the condition count < 5 is true.\n",
        "In each iteration, it prints the current value of count and then increments count by 1."
      ],
      "metadata": {
        "id": "hpCCmYaiC8LH"
      }
    },
    {
      "cell_type": "markdown",
      "source": [
        "**4. break, continue, and pass Statements**"
      ],
      "metadata": {
        "id": "c9SaqgdqC90l"
      }
    },
    {
      "cell_type": "code",
      "source": [
        "# Example using break, continue, and pass\n",
        "\n",
        "for i in range(10):\n",
        "    if i == 3:\n",
        "        print(\"Skipping 3\")\n",
        "        continue  # Skip the rest of the loop when i is 3\n",
        "    elif i == 7:\n",
        "        print(\"Breaking at 7\")\n",
        "        break  # Exit the loop when i is 7\n",
        "    else:\n",
        "        pass  # Do nothing, just a placeholder\n",
        "\n",
        "    print(f\"Number: {i}\")\n"
      ],
      "metadata": {
        "colab": {
          "base_uri": "https://localhost:8080/"
        },
        "id": "JrGk7WdODCEN",
        "outputId": "3571dd1a-b307-4b5f-db0f-a5bce7eada62"
      },
      "execution_count": 4,
      "outputs": [
        {
          "output_type": "stream",
          "name": "stdout",
          "text": [
            "Number: 0\n",
            "Number: 1\n",
            "Number: 2\n",
            "Skipping 3\n",
            "Number: 4\n",
            "Number: 5\n",
            "Number: 6\n",
            "Breaking at 7\n"
          ]
        }
      ]
    },
    {
      "cell_type": "markdown",
      "source": [
        "**Explanation:**\n",
        "\n",
        "break: Exits the loop immediately when i is 7.\n",
        "continue: Skips the rest of the loop for the current iteration when i is 3.\n",
        "pass: Does nothing, used as a placeholder where code is syntactically required but you don't want to execute anything."
      ],
      "metadata": {
        "id": "Jg2RDJDwDGSd"
      }
    },
    {
      "cell_type": "markdown",
      "source": [
        "**5. Nested Control Structures**\n"
      ],
      "metadata": {
        "id": "iSUVdAY2DH-9"
      }
    },
    {
      "cell_type": "code",
      "source": [
        "# Example of nested if-else and for loop\n",
        "\n",
        "for i in range(3):\n",
        "    if i % 2 == 0:\n",
        "        print(f\"{i} is even\")\n",
        "        for j in range(2):\n",
        "            print(f\"  Inner loop j: {j}\")\n",
        "    else:\n",
        "        print(f\"{i} is odd\")\n"
      ],
      "metadata": {
        "colab": {
          "base_uri": "https://localhost:8080/"
        },
        "id": "q5oaO3dUDLiV",
        "outputId": "7ff58c55-81b9-4c72-b964-bdccd6b6af3f"
      },
      "execution_count": 5,
      "outputs": [
        {
          "output_type": "stream",
          "name": "stdout",
          "text": [
            "0 is even\n",
            "  Inner loop j: 0\n",
            "  Inner loop j: 1\n",
            "1 is odd\n",
            "2 is even\n",
            "  Inner loop j: 0\n",
            "  Inner loop j: 1\n"
          ]
        }
      ]
    },
    {
      "cell_type": "markdown",
      "source": [
        "**Explanation:**\n",
        "\n",
        "The code uses a for loop to iterate through numbers from 0 to 2.\n",
        "Inside the loop, it checks if the number is even or odd using an if-else statement.\n",
        "If the number is even, it enters another for loop to print an inner loop message."
      ],
      "metadata": {
        "id": "rIWs8IpDDQGN"
      }
    },
    {
      "cell_type": "markdown",
      "source": [
        "Conditional Statements (if, elif, else): Execute code based on specific conditions.\n",
        "for Loop: Iterate over a sequence (like a list, tuple, or range).\n",
        "\n",
        "while Loop: Continue executing code as long as a condition is true.\n",
        "Loop Control Statements (break, continue, pass):\n",
        "break exits the loop.\n",
        "continue skips to the next iteration.\n",
        "pass does nothing and is used as a placeholder.\n",
        "Nested Control Structures: Combine loops and conditionals to create more complex logic.\n",
        "These control structures are fundamental to writing programs that make decisions, repeat tasks, and handle more complex logic in Python."
      ],
      "metadata": {
        "id": "lTkPVQX-DVWu"
      }
    }
  ]
}